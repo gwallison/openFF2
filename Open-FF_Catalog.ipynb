{
 "cells": [
  {
   "cell_type": "markdown",
   "id": "speaking-yorkshire",
   "metadata": {},
   "source": [
    "# Open-FF Catalog\n",
    "## Exploring the Fracking Industry's FracFocus Chemical Disclosures\n",
    "\n",
    "### Data version: June 6, 2021\n",
    "\n"
   ]
  },
  {
   "cell_type": "markdown",
   "id": "interesting-confusion",
   "metadata": {},
   "source": [
    "Below are the indicies into the Open-FF Catalog.  These tables are interactive: \n",
    " - re-sort the table by clicking on a column heading\n",
    " - click there again to reverse the table order (from ascending to descending)\n",
    " - sorting by more than one column (in succesion) allows finer sorting\n",
    " - filter the records that are displayed by using the search box (for example, type in a company name to only show those records)\n",
    " - control the number of records shown per page"
   ]
  },
  {
   "cell_type": "markdown",
   "id": "understanding-premiere",
   "metadata": {},
   "source": [
    "# [Chemical Index](Open-FF_Chemicals.html)\n",
    "\n",
    "This interactive table below lists all chemicals published in FracFocus that have been parsed successfully. For each chemical, the index list information such as number of records in FracFocus in the filtered data, the mass of the largest 10% of those records and whether the chemical is on lists of \"chemicals of concern.\"\n",
    "\n",
    "Further, **three links** to more information are available.  \n",
    "- Clicking on the CAS Number takes you to a detailed report on the Where, Who, When and How Much for that chemical in FracFocus data.  \n",
    "- The 'data' link allows you to download a spreadsheet of the chemical records directly.  \n",
    "- The ChemID link takes you to a webpage with lots of general information about the chemical.\n",
    "\n"
   ]
  },
  {
   "cell_type": "markdown",
   "id": "hybrid-mumbai",
   "metadata": {},
   "source": [
    "# [Chemical synonyms](Open-FF_Synonyms.html)\n",
    "This interactive table lists alternative names for the chemicals published in FracFocus. Although it is not an exhaustive set (around 90,000 synonyms for about 1400 compounds published), it may help you find:\n",
    "\n",
    "- alternative names for a given CAS number. Some of these may be product names. Some CAS numbers have thousands of synonyms.\n",
    "- possible CAS numbers for a given name\n"
   ]
  },
  {
   "cell_type": "markdown",
   "id": "clear-basket",
   "metadata": {},
   "source": [
    "# [Disclosure Index](Open-FF_Disclosures.html)\n",
    "This interactive table lists ALL the disclosures in all of the FracFocus data, including the SkyTruth archive.  In this table you will find location data (state and county), API Number, companies involved, water use, depth, date, a link to a google map, the number of records in the disclosure and other useful information.\n",
    "\n",
    "This very large table is more than 200,000 rows.  On some browsers, this may load and sort very slowly or even crash. If you run into this problem, let me know and I'll try to provide different options.\n"
   ]
  },
  {
   "cell_type": "markdown",
   "id": "better-liverpool",
   "metadata": {},
   "source": [
    "# [Company translation table](Open-FF_Companies.html)\n",
    "The raw FracFocus data for company names is not standardized.  A single company may be named by dozens of labels in the data.  Without correcting this proliferation of names, searching the data is very tedious.  Open-FF uses a hand-curated translation table to translate the numerous versions into a single name.  The two FracFocus fields that are the 'input' for this table are OperatorName and Supplier. The three Open-FF fields that use the output of the table are bgOperatorName, bgSupplier and primarySupplier.\n"
   ]
  },
  {
   "cell_type": "markdown",
   "id": "raised-crazy",
   "metadata": {},
   "source": [
    "# [TradeNames Index](Open-FF_TradeNames.html)\n",
    "This experimental table lists all tradenames and the bgCAS numbers associated with them.  Use this table to find what is reported in a particular product or to find which products a particular chemical ends up in.  You can also use the table to look for variations in how a particular product is reported."
   ]
  }
 ],
 "metadata": {
  "hide_input": true,
  "kernelspec": {
   "display_name": "Python 3",
   "language": "python",
   "name": "python3"
  },
  "language_info": {
   "codemirror_mode": {
    "name": "ipython",
    "version": 3
   },
   "file_extension": ".py",
   "mimetype": "text/x-python",
   "name": "python",
   "nbconvert_exporter": "python",
   "pygments_lexer": "ipython3",
   "version": "3.8.5"
  }
 },
 "nbformat": 4,
 "nbformat_minor": 5
}

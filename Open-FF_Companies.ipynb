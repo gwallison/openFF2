{
 "cells": [
  {
   "cell_type": "markdown",
   "id": "alleged-charleston",
   "metadata": {},
   "source": [
    "# Open-FF Company Index"
   ]
  },
  {
   "cell_type": "code",
   "execution_count": null,
   "id": "sufficient-livestock",
   "metadata": {},
   "outputs": [],
   "source": [
    "from math import log10, floor\n",
    "import core.get_google_map as ggmap\n",
    "\n",
    "def round_sig(x, sig=2):\n",
    "    try:\n",
    "        if abs(x)>=1:\n",
    "            out =  int(round(x, sig-int(floor(log10(abs(x))))-1))\n",
    "            return f\"{out:,d}\" # does the right thing with commas\n",
    "        else: # fractional numbers\n",
    "            return str(round(x, sig-int(floor(log10(abs(x))))-1))\n",
    "    except:\n",
    "        return x\n",
    "    \n",
    "# used to insert links of google maps into tables\n",
    "def make_clickable(val):\n",
    "    try:\n",
    "        if val[:4]=='http':\n",
    "            return '<a href=\"{}\" target=\"_blank\">{}</a>'.format(val,'map')\n",
    "    except:\n",
    "        return val\n",
    "    return val\n",
    "\n",
    "def getLink(row):\n",
    "    return ggmap.getSearchLink(row.bgLatitude,row.bgLongitude)\n",
    "\n",
    "def getCatLink(cas):\n",
    "#    s = f'https://qbobioyuz1dh57rst8exeg-on.drv.tw/open_FF_catalog/{cas}/analysis_{cas}.html'\n",
    "#    s = f'file://C:/MyDocs/sandbox/data/O&G/open-FF/tmp/website/{cas}/analysis_{cas}.html'\n",
    "    s = f'{cas}/analysis_{cas}.html'\n",
    "    return ggmap.wrap_URL_in_html(s,'Analysis')\n",
    "\n",
    "def getDataLink(cas):\n",
    "    s = f'{cas}/data.csv'\n",
    "    return ggmap.wrap_URL_in_html(s,'csv file')\n",
    "\n",
    "def getChemIDLink(cas):\n",
    "    s = f'https://chem.nlm.nih.gov/chemidplus/rn/{cas}'\n",
    "    return ggmap.wrap_URL_in_html(s,'ChemID')\n",
    "\n",
    "def getMapLink(row):\n",
    "    s = getLink(row)\n",
    "    return ggmap.wrap_URL_in_html(s,'map')\n",
    "\n",
    "\n",
    "def xlate_to_str(inp,sep=' ',trunc=False,tlen=20):\n",
    "    try:\n",
    "        l = list(inp)\n",
    "        out = ''\n",
    "        for s in l:\n",
    "            if trunc:\n",
    "                if len(s)>tlen:\n",
    "                    s = s[:tlen-3]+ '...'\n",
    "            out+= s+sep\n",
    "    except:\n",
    "        return ''\n",
    "    return out[:-(len(sep))]"
   ]
  },
  {
   "cell_type": "code",
   "execution_count": null,
   "id": "cloudy-motel",
   "metadata": {},
   "outputs": [],
   "source": [
    "import pandas as pd\n",
    "import numpy as np\n",
    "from itables import init_notebook_mode\n",
    "init_notebook_mode(all_interactive=True)\n",
    "from itables import show as iShow\n",
    "import itables.options as opt\n",
    "\n",
    "\n",
    "import matplotlib.pyplot as plt\n",
    "%matplotlib inline\n",
    "pd.set_option('display.max_rows', 500)\n",
    "\n",
    "import core.Analysis_set as ana_set\n",
    "df_cas = ana_set.Catalog_set().get_set()\n"
   ]
  },
  {
   "cell_type": "markdown",
   "id": "jewish-consultation",
   "metadata": {},
   "source": [
    "|Explanation of columns in the index|\n",
    "| :---: |\n",
    "\n",
    "| Column      | Description |\n",
    "| :----: | :-------- |\n",
    "|*raw*| company name as it appears in the raw FracFocus (fields: OperatorName or Supplier)|\n",
    "|*translated*|company name as translated by Open-FF (fields: bgOperatorName, bgSupplier, primarySupplier)|\n",
    "|*number of OperatorName records*| how many times this raw value appears as the Operator value|\n",
    "|*number of Supplier records*| how many times this raw value appears as the Supplier value|"
   ]
  },
  {
   "cell_type": "code",
   "execution_count": null,
   "id": "general-humanity",
   "metadata": {},
   "outputs": [],
   "source": [
    "# fn = './sources/company_xlate.csv'\n",
    "# xlate = pd.read_csv(fn,quotechar='$')\n",
    "# xlate = xlate.drop('status',axis=1)\n",
    "# xlate.columns = ['raw','translated']\n",
    "gbOp = df_cas.groupby(['OperatorName','bgOperatorName'],as_index=False)['bgCAS'].count()\n",
    "gbOp.columns = ['raw','translated','counts in OperatorName']\n",
    "gbSup = df_cas.groupby(['Supplier','bgSupplier'],as_index=False)['bgCAS'].count()\n",
    "gbSup.columns = ['raw','translated','counts in Supplier']\n",
    "xlate =pd.merge(gbOp,gbSup, on=['translated','raw'],how='outer').reset_index(drop=True)\n",
    "xlate = xlate.fillna(0)\n",
    "iShow(xlate,maxBytes=0)"
   ]
  },
  {
   "cell_type": "code",
   "execution_count": null,
   "id": "tight-puzzle",
   "metadata": {},
   "outputs": [],
   "source": []
  }
 ],
 "metadata": {
  "hide_input": true,
  "kernelspec": {
   "display_name": "Python 3",
   "language": "python",
   "name": "python3"
  },
  "language_info": {
   "codemirror_mode": {
    "name": "ipython",
    "version": 3
   },
   "file_extension": ".py",
   "mimetype": "text/x-python",
   "name": "python",
   "nbconvert_exporter": "python",
   "pygments_lexer": "ipython3",
   "version": "3.8.5"
  }
 },
 "nbformat": 4,
 "nbformat_minor": 5
}

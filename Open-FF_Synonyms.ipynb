{
 "cells": [
  {
   "cell_type": "markdown",
   "id": "prescription-chamber",
   "metadata": {},
   "source": [
    "# Open-FF synonym index\n",
    "\n",
    "### FracFocus download: March 5, 2021"
   ]
  },
  {
   "cell_type": "code",
   "execution_count": null,
   "id": "swedish-fitness",
   "metadata": {},
   "outputs": [],
   "source": [
    "# from math import log10, floor\n",
    "import core.get_google_map as ggmap\n",
    "\n",
    "# def round_sig(x, sig=2):\n",
    "#     try:\n",
    "#         if abs(x)>=1:\n",
    "#             out =  int(round(x, sig-int(floor(log10(abs(x))))-1))\n",
    "#             return f\"{out:,d}\" # does the right thing with commas\n",
    "#         else: # fractional numbers\n",
    "#             return str(round(x, sig-int(floor(log10(abs(x))))-1))\n",
    "#     except:\n",
    "#         return x\n",
    "    \n",
    "# # used to insert links of google maps into tables\n",
    "# def make_clickable(val):\n",
    "#     try:\n",
    "#         if val[:4]=='http':\n",
    "#             return '<a href=\"{}\" target=\"_blank\">{}</a>'.format(val,'map')\n",
    "#     except:\n",
    "#         return val\n",
    "#     return val\n",
    "\n",
    "# def getLink(row):\n",
    "#     return ggmap.getSearchLink(row.Latitude,row.Longitude)\n",
    "\n",
    "def getCatLink(cas,text_to_show='Analysis'):\n",
    "#    s = f'https://qbobioyuz1dh57rst8exeg-on.drv.tw/open_FF_catalog/{cas}/analysis_{cas}.html'\n",
    "#    s = f'file://C:/MyDocs/sandbox/data/O&G/open-FF/tmp/website/{cas}/analysis_{cas}.html'\n",
    "    s = f'{cas}/analysis_{cas}.html'\n",
    "    return ggmap.wrap_URL_in_html(s,text_to_show)\n",
    "\n",
    "# def getDataLink(cas):\n",
    "#     s = f'{cas}/data.csv'\n",
    "#     return ggmap.wrap_URL_in_html(s,'csv file')\n",
    "\n",
    "# def getChemIDLink(cas):\n",
    "#     s = f'https://chem.nlm.nih.gov/chemidplus/rn/{cas}'\n",
    "#     return ggmap.wrap_URL_in_html(s,'ChemID')\n",
    "\n",
    "\n",
    "# def xlate_to_str(inp,sep=' ',trunc=False,tlen=20):\n",
    "#     try:\n",
    "#         l = list(inp)\n",
    "#         out = ''\n",
    "#         for s in l:\n",
    "#             if trunc:\n",
    "#                 if len(s)>tlen:\n",
    "#                     s = s[:tlen-3]+ '...'\n",
    "#             out+= s+sep\n",
    "#     except:\n",
    "#         return ''\n",
    "#     return out[:-(len(sep))]"
   ]
  },
  {
   "cell_type": "code",
   "execution_count": null,
   "id": "middle-following",
   "metadata": {},
   "outputs": [],
   "source": [
    "import pandas as pd\n",
    "import numpy as np\n",
    "from itables import init_notebook_mode\n",
    "init_notebook_mode(all_interactive=True)\n",
    "from itables import show as iShow\n",
    "import itables.options as opt\n",
    "\n",
    "\n",
    "#import core.Construct_set as const_set\n",
    "#import matplotlib.pyplot as plt\n",
    "#%matplotlib inline\n",
    "#pd.set_option('display.max_rows', 500)\n",
    "\n",
    "#t = const_set.Construct_set(fromScratch=False).get_full_set();\n",
    "#df_cas = t.get_df_cas(keepcodes='M|A|P',removecodes='R|1|2|4|5|e',event_fields=[],verbose=False);\n",
    "#df_cas['year'] = df_cas.date.dt.year"
   ]
  },
  {
   "cell_type": "markdown",
   "id": "ordered-academy",
   "metadata": {},
   "source": [
    "This interactive table below lists synonyms for all chemicals published in FracFocus. This is not an exhaustive set. The table is sort-able by any column (click a second time for reverse sort) and use the **Search** bar to limit what is shown in the table. \n",
    "\n",
    "   \n",
    "Use the search function to find\n",
    "- alternative names for a given CAS number.  Some of these may be product names. Some CAS numbers have thousands of synonyms.\n",
    "- possible CAS numbers for a given synonym\n",
    "\n",
    "These synonyms are the one provided by the CAS reference site, [SciFinder](http://scifinder.cas.org), a subscription service.  It can also be helpful to use\n",
    "[PubChem](https://pubchem.ncbi.nlm.nih.gov/), a free, public site.\n",
    "\n"
   ]
  },
  {
   "cell_type": "markdown",
   "id": "julian-connectivity",
   "metadata": {},
   "source": [
    "|Explanation of columns in the index|\n",
    "| :---: |\n",
    "\n",
    "| Column      | Description |\n",
    "| :----: | :-------- |\n",
    "|*synonym*| is the one of the names given by SciFinder for the material identified by the CAS number|\n",
    "|*cas_number*| is the CAS registration number of a chemical in the FracFocus data set. |\n",
    "||**Click on this link** to view summary of this chemical for all of FracFocus (filtered data - up to last major update)|  \n"
   ]
  },
  {
   "cell_type": "markdown",
   "id": "hidden-sheet",
   "metadata": {},
   "source": [
    "## Synonyms for chemicals reported in FracFocus"
   ]
  },
  {
   "cell_type": "code",
   "execution_count": null,
   "id": "thermal-redhead",
   "metadata": {},
   "outputs": [],
   "source": [
    "syn_fn = './sources/CAS_synonyms.csv'\n",
    "syn_df = pd.read_csv(syn_fn,quotechar='$')\n",
    "syn_df.cas_number = '<b>'+syn_df.cas_number.map(lambda x: getCatLink(x,x))+'</b>'\n",
    "iShow(syn_df,maxBytes=0)"
   ]
  },
  {
   "cell_type": "code",
   "execution_count": null,
   "id": "configured-joshua",
   "metadata": {},
   "outputs": [],
   "source": []
  }
 ],
 "metadata": {
  "hide_input": true,
  "kernelspec": {
   "display_name": "Python 3",
   "language": "python",
   "name": "python3"
  },
  "language_info": {
   "codemirror_mode": {
    "name": "ipython",
    "version": 3
   },
   "file_extension": ".py",
   "mimetype": "text/x-python",
   "name": "python",
   "nbconvert_exporter": "python",
   "pygments_lexer": "ipython3",
   "version": "3.8.5"
  }
 },
 "nbformat": 4,
 "nbformat_minor": 5
}

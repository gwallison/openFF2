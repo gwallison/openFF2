{
 "cells": [
  {
   "cell_type": "markdown",
   "id": "qualified-radical",
   "metadata": {},
   "source": [
    "# CAS Numbers and Ingredient names in FracFocus & Open-FF"
   ]
  },
  {
   "cell_type": "markdown",
   "id": "liberal-herald",
   "metadata": {},
   "source": [
    "# Main points\n",
    "- CAS Registry Numbers simple codes that identify a unique chemical material. \n",
    "- They are the primary way chemicals are identified in FracFocus.\n",
    "- However, the identity of many chemicals in the raw FracFocus data is obscured by problems of data entry, missing and ambiguous labels and withheld data.\n",
    "- Open-FF uses an authoritative resource, cleaning scripts and manual curation to correct many of the problems in the raw data.  \n",
    "- Some chemical identities remain unresolved and their records are flagged for filtering for analysis data sets."
   ]
  },
  {
   "cell_type": "markdown",
   "id": "expected-recruitment",
   "metadata": {},
   "source": [
    "CAS Registry Numbers play a central role in FracFocus.  Below we cover:\n",
    "- What CAS numbers are\n",
    "- How they are used in FracFocus\n",
    "- How they can be a problem in FracFocus\n",
    "- How Open-FF cleans them up\n",
    "- How you can use them to get more information"
   ]
  },
  {
   "cell_type": "markdown",
   "id": "current-brand",
   "metadata": {},
   "source": [
    "# What are CAS Registry Numbers?\n",
    "CAS Registry Numbers are codes that uniquely identify chemicals to a very specific structure. The codes are assigned by the [Chemical Abstracts Service (CAS)](www.cas.org) and, according to their website, the registry \n",
    "> ...covers substances identified from the scientific literature from 1957 to the present, with additional substances going back to the early 1900s.\n",
    ">CAS REGISTRY is updated daily with thousands of new substances.\n",
    "\n",
    "There are millions of distinct CAS-numbered chemicals in the CAS Registry."
   ]
  },
  {
   "cell_type": "markdown",
   "id": "wrong-garage",
   "metadata": {},
   "source": [
    "## What does a CAS number look like?\n",
    "It's basic structure is three numbers separated by a hyphen.  For example,\n",
    "\n",
    "| CAS Number| name|\n",
    "| :----: | :----:|\n",
    "|**7732-18-5** |water|\n",
    "|**50-00-0** | formaldehyde|\n",
    "|**111-76-2**|Ethylene glycol monobutyl ether|\n",
    "|**68400-71-5**|2-Butenedioic acid (2E)-, polymer with methyloxirane, oxirane and 1,2,3-propanetriol|\n",
    "|**9005-65-6**|Polysorbate 80|\n",
    "\n",
    "Formally, the left-most number is anything from 2 digits to 7 digits, the middle one is always two digits (ex. 07, 18, or 99). The right-most number is always a single digit and is called the \"check digit\" because it is used to verify the integrity of the other digits (such as when it is being copied.)"
   ]
  },
  {
   "cell_type": "markdown",
   "id": "vanilla-passing",
   "metadata": {},
   "source": [
    "<div class=\"alert alert-warning\">\n",
    "<b>Note about the Chemical Abstracts Service </b> \n",
    "<br>\n",
    "!!!!!!Professional service focused on supporting the chemical idustry. SciFinder that I used to verify FracFocus numbers is a subscription service and costly. It is sometimes available to academic researchers through their institution.\n",
    "Much information can be found on publically accessible databases, like [PubChem](http://www.pubchem.org).\n",
    "If SciFinder is a non-public, expensive resource, why is Open-FF using it? Just one reason: it is the only authoritative source of CAS numbers that cover all the chemicals in FracFocus.  A search of PubChem couldn't find XXXX CAS numbers.  Even the EPA master chemical reference list is missing over XXXX FracFocus substances. \n",
    "    </div>"
   ]
  },
  {
   "cell_type": "code",
   "execution_count": null,
   "id": "mobile-continent",
   "metadata": {},
   "outputs": [],
   "source": []
  },
  {
   "cell_type": "markdown",
   "id": "stupid-jungle",
   "metadata": {},
   "source": [
    "# Upload data files\n",
    "<p class=\"lead\">This <a href=\"https://jupyter.org/\">Jupyter notebook</a>\n",
    "shows how to upload data files to be converted\n",
    "to [Photon-HDF5](http://photon-hdf5.org) format. </p>\n",
    "\n",
    "<i>Please send feedback and report any problems to the \n",
    "[Photon-HDF5 google group](https://groups.google.com/forum/#!forum/photon-hdf5).</i>\n",
    "\n",
    "<br>\n",
    "<div class=\"alert alert-warning\">\n",
    "<b>NOTE</b> Uploading data files is only necessary when running the notebook online.\n",
    "</div>"
   ]
  },
  {
   "cell_type": "markdown",
   "id": "entertaining-management",
   "metadata": {},
   "source": [
    "#### Side note about spreadsheets, CAS numbers and chemical names \n",
    "It can be handy to load tables that contain CAS numbers into spreadsheets such as Excel or OpenOffice Calc or Google Sheets. There is one quirk to be aware of:  most spreadsheets try to interpret incoming data in an intelligent way. Unfortunately, SOME CAS numbers may be translated into dates! For example, in OpenOffice the valid CAS number, **139-08-2**, is reintrepreted to **8/02/39**.  Excel does a similar thing.  \n",
    "\n",
    "To prevent the spreadsheet from mangling your CAS numbers, upon importing the data, specify that the CAS column is \"text\".  This will prevent the spreadsheet from re-interpreting your data. Some spreadheet programs have a checkbox for detecting \"special numbers.\"  Turn that OFF.\n",
    "\n",
    "Additionally, most data in FracFocus and Open-FF is saved in the 'csv' format. The default is for commas to separate columns and for quotes to surround a value if it might be misinterpreted.  However, because so many chemical names have commas and single and double quotes within them, there can be considerable confusion if we were to use the default.  Instead, we use the dollar sign as a quoting character ($) when chemical names are involved to prevent those problems. You will have to specify to your spreadsheet program that is the quoting character when importing these files."
   ]
  },
  {
   "cell_type": "markdown",
   "id": "olympic-phone",
   "metadata": {},
   "source": [
    "# How are CAS numbers used in FracFocus?\n",
    "**Every chemical record in FracFocus should include a CAS number**, as well as a chemical name, quantity and, hopefully, other important information like supplier, the tradename of the product containing the chemical and its purpose. (As you will see, all records in FracFocus are not complete and we must find other ways of filling the gaps. Also, there are lots of records that are not informative) \n",
    "\n",
    "Although each record has CAS number and chemical name, **the FracFocus website advises users to consider the CAS number of a record as the authoritative identity.** [They note](https://www.fracfocus.org/index.php?p=explore/chemical-names-cas-registry-numbers) that there can be many different names for a particular chemical in FracFocus, but only one CAS id.[1]  \n",
    "\n",
    "---\n",
    ">[1]: *It is interesting to note that on this page (downloaded March 2021), they provide a list of 41 chemicals with their CAS numbers, without saying it is a small fraction of the chemicals used across the industry.  A recent count we did of FracFocus registed more than 1300 unique chemicals.*"
   ]
  },
  {
   "cell_type": "markdown",
   "id": "established-underground",
   "metadata": {},
   "source": [
    "# Problems related to CAS numbers in FracFocus\n",
    "- Data entry\n",
    "- invalid CASNumber\n",
    "- outdated CASNumber\n",
    "- CAS/name mismatches\n",
    "- CAS id withheld\n",
    "- CAS missing"
   ]
  },
  {
   "cell_type": "markdown",
   "id": "entitled-literature",
   "metadata": {},
   "source": [
    "As we have mentioned, the IngredientName field is less informative than you would want in a disclosure instrument."
   ]
  },
  {
   "cell_type": "markdown",
   "id": "breathing-sacrifice",
   "metadata": {},
   "source": [
    "# How Open-FF cleans up CAS problems"
   ]
  },
  {
   "cell_type": "markdown",
   "id": "hybrid-bronze",
   "metadata": {},
   "source": [
    "To clear up these FracFocus issues with chemical identity, Open-FF uses a layered approach.\n",
    "\n",
    "The first is to create a master list of all unique CAS numbers published in FracFocus, that is, all unique values we find in the CASNumber field. This will include bona fide CAS Registration numbers, as well as poorly formed CAS numbers, text to indicate proprietary claims, non-CAS text, and empty values.  This master list will serve as our translation table - FROM: what was published in the raw FracFocus TO: our best guess for the actual identification of the chemical in every record.  Unfortunately, some of those guesses will be \"CAS unresolved.\"\n",
    "For a March 2021 bulk download (and the 2011-2013 SkyTruth archive) this master list was XXXX unique values\n",
    "\n",
    "The second phase is to create a link to an authoritative information source for all the potential CAS Numbers in FracFocus. Image This will give us a list of authenticated CAS numbers, deprecated numbers (with their correct replacement number) and \"empty\" numbers, that is CAS codes that are valid in the formal sense, but don't actually refer to any chemicals.  To get this link, we manually test every CASNumber on the master list with a substance search at SciFinder, the CAS search engine.  The results are compiled into a CAS_reference table that can use to identify authentic, deprecated and empty CAS values for our master list.\n",
    "\n",
    "In the third phase, we manually examine the remaining values on our master list and mark all proprietary claims.\n",
    "\n",
    "In the fourth phase, we categorize all remaining values on our master list as:\n",
    "\n",
    "Our master CAS list now has the original raw CASNumber values and the best guess bgCAS.  When we perform that assembling of a full data set, we simply generate a bgCAS value for every record in the raw data.  This categoization of different types will allow us to examine in more detail:\n",
    "- all values of a given chemical\n",
    "- all proprietary claims\n",
    "- the various malformed and uninformative entries\n",
    "\n",
    "\n"
   ]
  },
  {
   "cell_type": "markdown",
   "id": "subjective-radio",
   "metadata": {},
   "source": [
    "<div class=warn>\n",
    "    <b>Warning:</b> remember to do book-keeping  \n",
    "</div>"
   ]
  },
  {
   "cell_type": "markdown",
   "id": "incident-homework",
   "metadata": {},
   "source": [
    "# How to use CAS Numbers to get more information about fracking chemicals"
   ]
  },
  {
   "cell_type": "code",
   "execution_count": 1,
   "id": "stopped-bonus",
   "metadata": {},
   "outputs": [
    {
     "data": {
      "text/html": [
       "<style>\n",
       "div.warn {    \n",
       "    background-color: #fcf2f2;\n",
       "    border-color: #dFb5b4;\n",
       "    border-left: 5px solid #dfb5b4;\n",
       "    padding: 0.5em;\n",
       "    }\n",
       " </style>"
      ],
      "text/plain": [
       "<IPython.core.display.HTML object>"
      ]
     },
     "execution_count": 1,
     "metadata": {},
     "output_type": "execute_result"
    }
   ],
   "source": [
    "from IPython.core.display import HTML\n",
    "def css_styling():\n",
    "    styles = open(\"./styles/custom.css\", \"r\").read()\n",
    "    return HTML(styles)\n",
    "css_styling()"
   ]
  }
 ],
 "metadata": {
  "hide_input": true,
  "kernelspec": {
   "display_name": "Python 3",
   "language": "python",
   "name": "python3"
  },
  "language_info": {
   "codemirror_mode": {
    "name": "ipython",
    "version": 3
   },
   "file_extension": ".py",
   "mimetype": "text/x-python",
   "name": "python",
   "nbconvert_exporter": "python",
   "pygments_lexer": "ipython3",
   "version": "3.8.5"
  }
 },
 "nbformat": 4,
 "nbformat_minor": 5
}

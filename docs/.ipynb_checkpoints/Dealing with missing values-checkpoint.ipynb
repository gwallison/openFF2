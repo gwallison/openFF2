{
 "cells": [
  {
   "cell_type": "markdown",
   "id": "dried-attachment",
   "metadata": {},
   "source": [
    "# Missing values\n",
    "\n",
    "FracFocus is a disclosure instrument.  It should be the place where companies tell us about the chemicals they use in the fracking process. Disclosure instruments, when formally required and enforced by an outside entity, like a regulating body, require thorough compliance from all actors.  \n",
    "\n",
    "Unfortunately, FracFocus is sponsored and run by the industry. While there are some rules from state regulators about compliance, it is not at all evident that such compliance is enforced. Thoroughness is evidently not a value that is connected with the instrument.\n",
    "\n",
    "This becomes clear to end-users when we start looking at how much missing information there is in FracFocus. \n",
    "\n",
    "## Open-FF's philosophy on dealing with missing values\n",
    "There are a number of ways companies can avoid disclosing information about chemicals.  A formal was is the \"Proprietary Claim\" in which they essentially just flatly state that a chemical is confidential business information, and therefore, they are not required to tell us what it is.  There are lots of wrinkles to this issue and we try to keep track of how much information is blocked this way.\n",
    "\n",
    "Another way companies avoid disclosure is to just to leave some values empty in the disclosure publication. Instead of an actual blank cell, companies may substitute a vague excuse why there isn't data.  For example, if they aren't going to tell us the identity of a chemical (in the CASNumber field), they may give us 'NOT PROVIDED' or 'NOT AVAILABLE' or 'SUPPLIED BY THIRD PARTY' or '---' or '?' or 'Unknown' or 'Undisclosed'. While the subtleties of these lables (and dozens of others) may matter to the reporting company, they all mean the same thing to the end-user: NO DATA.  \n",
    "\n",
    "After looking at many of these labels over the years, I've come to see them as a subtle way of burying data even deeper.  The labels seem to imply some meaning, and we may try to figure out how they differ. But there is little way for us to really know what they mean. The companies can use them indescriminatly with no consequences for hiding. They are, to me, a cloud of distractions covering up the main result: NO DATA.\n",
    "\n",
    "In early version of Open-FF, I attempted to keep track of all of these labels to give the end-user the option of following them too.  With the new version, I am lumping these labels under a single category: 'missing'.  This makes processing easier, less complicated, but more to the point, it reduces the industry's disctractions to the main point: NO DATA.\n",
    "    \n",
    "This is a disclosure instrument; if the data is not disclosed, excuses don't matter. Let's spell it out.  They have given us NO DATA.\n",
    "    \n",
    "(For those end users that really want to know all of those things, you can start by looking at the values in the data set that I convert to missing. (link to missing_values).  If you wish to have an Open-FF data set WITH these values restored, let me know.  It is not hard to create a different data set; but the supporting files such as the catalog, etc will be less useful.) "
   ]
  }
 ],
 "metadata": {
  "hide_input": false,
  "kernelspec": {
   "display_name": "Python 3",
   "language": "python",
   "name": "python3"
  },
  "language_info": {
   "codemirror_mode": {
    "name": "ipython",
    "version": 3
   },
   "file_extension": ".py",
   "mimetype": "text/x-python",
   "name": "python",
   "nbconvert_exporter": "python",
   "pygments_lexer": "ipython3",
   "version": "3.8.5"
  }
 },
 "nbformat": 4,
 "nbformat_minor": 5
}
